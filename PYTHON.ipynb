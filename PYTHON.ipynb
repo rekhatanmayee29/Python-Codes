{
  "cells": [
    {
      "cell_type": "markdown",
      "metadata": {
        "id": "view-in-github",
        "colab_type": "text"
      },
      "source": [
        "<a href=\"https://colab.research.google.com/github/rekhatanmayee29/Python-Codes/blob/main/PYTHON.ipynb\" target=\"_parent\"><img src=\"https://colab.research.google.com/assets/colab-badge.svg\" alt=\"Open In Colab\"/></a>"
      ]
    },
    {
      "cell_type": "code",
      "execution_count": null,
      "metadata": {
        "colab": {
          "background_save": true
        },
        "id": "LClrKrWa5l2D"
      },
      "outputs": [],
      "source": []
    },
    {
      "cell_type": "code",
      "source": [
        "a=\"python\"\n",
        "for i in a:\n",
        "  if i=='t':\n",
        "    print(i)"
      ],
      "metadata": {
        "colab": {
          "base_uri": "https://localhost:8080/"
        },
        "id": "opIg59LeItWV",
        "outputId": "e34c946c-46fe-43c5-fcef-58c31c1a2f3c"
      },
      "execution_count": 1,
      "outputs": [
        {
          "output_type": "stream",
          "name": "stdout",
          "text": [
            "t\n"
          ]
        }
      ]
    },
    {
      "cell_type": "code",
      "source": [
        "a=[1,2,3,4,5,6,7,8,9,10]\n",
        "for i in a:\n",
        "  print(i)"
      ],
      "metadata": {
        "colab": {
          "base_uri": "https://localhost:8080/"
        },
        "id": "Ch_FcQ6oJHyT",
        "outputId": "45023334-8e89-46e2-c756-1c9340a1f1e4"
      },
      "execution_count": 2,
      "outputs": [
        {
          "output_type": "stream",
          "name": "stdout",
          "text": [
            "1\n",
            "2\n",
            "3\n",
            "4\n",
            "5\n",
            "6\n",
            "7\n",
            "8\n",
            "9\n",
            "10\n"
          ]
        }
      ]
    },
    {
      "cell_type": "code",
      "source": [
        "a=\"deepu\"\n",
        "count=0\n",
        "for i in a:\n",
        "  if i=='e':\n",
        "    count+=1\n",
        "    print(count)\n"
      ],
      "metadata": {
        "colab": {
          "base_uri": "https://localhost:8080/"
        },
        "id": "Q1slESMKJVvL",
        "outputId": "a4e7ca74-17bd-4031-a38b-99e11649014d"
      },
      "execution_count": 6,
      "outputs": [
        {
          "output_type": "stream",
          "name": "stdout",
          "text": [
            "1\n",
            "2\n"
          ]
        }
      ]
    },
    {
      "cell_type": "code",
      "source": [
        "n=int(input())\n",
        "if(n>=41 and n<=45):\n",
        "  print(\"A\")\n",
        "elif(n>=36 and n<=40):\n",
        "  print(\"B\")\n",
        "elif(n>=31 and n<=35):\n",
        "  print(\"C\")\n",
        "elif(n>=0 and n<=30):\n",
        "  print(\"D\")\n",
        "else:\n",
        "  print(\"INVALID INPUT\")"
      ],
      "metadata": {
        "colab": {
          "base_uri": "https://localhost:8080/"
        },
        "id": "CeYxS-2dJ8o9",
        "outputId": "09c7e9aa-5e2e-4446-e2e8-cf6e833f25d6"
      },
      "execution_count": 7,
      "outputs": [
        {
          "output_type": "stream",
          "name": "stdout",
          "text": [
            "34\n",
            "C\n"
          ]
        }
      ]
    },
    {
      "cell_type": "code",
      "source": [
        "n=int(input())\n",
        "a=n\n",
        "sum=0\n",
        "while n!=0:\n",
        "  digit=n%10\n",
        "  factorial=1\n",
        "  for i in range(1,digit+1):\n",
        "    factorial=factorial*i\n",
        "  sum=sum+factorial\n",
        "  n=n//10\n",
        "if sum==a:\n",
        "  print(\"YES\")\n",
        "else:\n",
        "  print(\"NO\")"
      ],
      "metadata": {
        "colab": {
          "base_uri": "https://localhost:8080/"
        },
        "id": "Hac5-p4dLNeX",
        "outputId": "be4e2c5d-b0b0-4145-d630-ac8d6b2bf016"
      },
      "execution_count": 20,
      "outputs": [
        {
          "output_type": "stream",
          "name": "stdout",
          "text": [
            "145\n",
            "YES\n"
          ]
        }
      ]
    },
    {
      "cell_type": "code",
      "source": [
        "n=int(input())\n",
        "print(n**2)"
      ],
      "metadata": {
        "colab": {
          "base_uri": "https://localhost:8080/"
        },
        "id": "Aw-03JgTNdEu",
        "outputId": "cb72c076-778a-4d2b-ebd1-4fb43465d7c8"
      },
      "execution_count": 16,
      "outputs": [
        {
          "output_type": "stream",
          "name": "stdout",
          "text": [
            "12\n",
            "144\n"
          ]
        }
      ]
    },
    {
      "cell_type": "code",
      "source": [
        "a=list(map(int,input().split()))\n",
        "s=a[0:len(a):2]\n",
        "print(s)"
      ],
      "metadata": {
        "colab": {
          "base_uri": "https://localhost:8080/"
        },
        "id": "dCLWfkvnOYCu",
        "outputId": "545fd0e3-36fa-4d51-fab2-9dd31ee5d870"
      },
      "execution_count": 23,
      "outputs": [
        {
          "output_type": "stream",
          "name": "stdout",
          "text": [
            "1 2 3 4 5 6 7 8 \n",
            "[1, 3, 5, 7]\n"
          ]
        }
      ]
    },
    {
      "cell_type": "code",
      "source": [
        "n=int(input())\n",
        "for i in range(1,11):\n",
        "  print(n*i,end=\" \")"
      ],
      "metadata": {
        "colab": {
          "base_uri": "https://localhost:8080/"
        },
        "id": "opARPSNDOye3",
        "outputId": "d4c38da0-2e2b-41c8-d725-918ef6bb5079"
      },
      "execution_count": 24,
      "outputs": [
        {
          "output_type": "stream",
          "name": "stdout",
          "text": [
            "12\n",
            "12 24 36 48 60 72 84 96 108 120 "
          ]
        }
      ]
    },
    {
      "cell_type": "code",
      "execution_count": null,
      "metadata": {
        "id": "OdF--0EX5r-C",
        "colab": {
          "base_uri": "https://localhost:8080/"
        },
        "outputId": "62bc5f5d-1c14-4bda-9f79-78babfb3d08e"
      },
      "outputs": [
        {
          "output_type": "stream",
          "name": "stdout",
          "text": [
            "ENTER A NUMBER6\n",
            "The number is even\n"
          ]
        }
      ],
      "source": [
        "a=int(input('ENTER A NUMBER'))\n",
        "if a%2==0:\n",
        "  print('The number is even')\n",
        "else:\n",
        "  print('The number is odd')\n"
      ]
    },
    {
      "cell_type": "code",
      "source": [
        "a = int(input('ENTER YOUR MARKS')\n",
        "if a>=90:\n",
        "  print('Excellent')\n",
        "elif a<=34:\n",
        "  print('Fail')\n",
        "else:\n",
        "  print('Good')\n"
      ],
      "metadata": {
        "colab": {
          "base_uri": "https://localhost:8080/"
        },
        "id": "yWeGklRJ8Gxz",
        "outputId": "9d5ed7b7-8050-4b3f-f0f0-2f1b92be3062"
      },
      "execution_count": null,
      "outputs": [
        {
          "output_type": "stream",
          "name": "stdout",
          "text": [
            "ENTER YOUR MARKS109\n",
            "Excellent\n"
          ]
        }
      ]
    },
    {
      "cell_type": "markdown",
      "source": [
        "X=[1,2,3,4]\n",
        "Y=[2,4,6,8]\n",
        "MX=sum(X)/len(X)\n",
        "MY=sum(Y)/len(Y)\n",
        "m=(X[0]-MX)*(Y[0]-MY)+(X[1]-MX)*(Y[1]-MY)+(X[2]-MX)*(Y[2]-MY)+(X[3]-MX)*(Y[3]-MY)/(X[0]-MX)**2+(X[1]-MX)**2+(X[2]-MX)**2+(X[3]-MX)**2\n",
        "c=m*MX-MY\n",
        "y=m*X[0]+c\n",
        "print(y)"
      ],
      "metadata": {
        "id": "AvoMeksa_JZM"
      }
    },
    {
      "cell_type": "code",
      "source": [
        "def linear(n):\n",
        "    X=[1,2,3,4]\n",
        "    Y=[2,4,6,8]\n",
        "    MX=sum(X)/len(X)\n",
        "    MY=sum(Y)/len(Y)\n",
        "    m=(X[0]-MX)*(Y[0]-MY)+(X[1]-MX)*(Y[1]-MY)+(X[2]-MX)*(Y[2]-MY)+(X[3]-MX)*(Y[3]-MY)/(X[0]-MX)**2+(X[1]-MX)**2+(X[2]-MX)**2+(X[3]-MX)**2\n",
        "    c=m*MX-MY\n",
        "    y=m*X[0]+c\n",
        "    yp=m*n+c\n",
        "    print(yp)\n",
        "linear(102)"
      ],
      "metadata": {
        "id": "VV9LxF7g-4lW",
        "colab": {
          "base_uri": "https://localhost:8080/"
        },
        "outputId": "25a2c513-55ef-4015-f4bf-27b41e8af84b"
      },
      "execution_count": null,
      "outputs": [
        {
          "output_type": "stream",
          "name": "stdout",
          "text": [
            "1066.125\n"
          ]
        }
      ]
    },
    {
      "cell_type": "code",
      "source": [],
      "metadata": {
        "colab": {
          "base_uri": "https://localhost:8080/",
          "height": 141
        },
        "id": "hcpS8bO77ctT",
        "outputId": "63ca731c-3b50-4c18-e8a9-57714d8ad652"
      },
      "execution_count": null,
      "outputs": [
        {
          "output_type": "error",
          "ename": "TypeError",
          "evalue": "linear() takes 0 positional arguments but 1 was given",
          "traceback": [
            "\u001b[0;31m---------------------------------------------------------------------------\u001b[0m",
            "\u001b[0;31mTypeError\u001b[0m                                 Traceback (most recent call last)",
            "\u001b[0;32m<ipython-input-7-6f69e637a6ae>\u001b[0m in \u001b[0;36m<cell line: 1>\u001b[0;34m()\u001b[0m\n\u001b[0;32m----> 1\u001b[0;31m \u001b[0mlinear\u001b[0m\u001b[0;34m(\u001b[0m\u001b[0;36m102\u001b[0m\u001b[0;34m)\u001b[0m\u001b[0;34m\u001b[0m\u001b[0;34m\u001b[0m\u001b[0m\n\u001b[0m",
            "\u001b[0;31mTypeError\u001b[0m: linear() takes 0 positional arguments but 1 was given"
          ]
        }
      ]
    },
    {
      "cell_type": "markdown",
      "metadata": {
        "id": "fdMWVx3x55tr"
      },
      "source": []
    }
  ],
  "metadata": {
    "colab": {
      "provenance": [],
      "authorship_tag": "ABX9TyNqhGGndOsSG1yBYOFWXyKX",
      "include_colab_link": true
    },
    "kernelspec": {
      "display_name": "Python 3",
      "name": "python3"
    },
    "language_info": {
      "name": "python"
    }
  },
  "nbformat": 4,
  "nbformat_minor": 0
}